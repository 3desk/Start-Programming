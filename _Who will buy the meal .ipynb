{
 "cells": [
  {
   "cell_type": "markdown",
   "id": "b7566d0c",
   "metadata": {},
   "source": [
    "##  Who will buy the meal?\n",
    "### Selecting that person randomly from a given list who will buy the meal.\n",
    "Concept: input(), split(), random, randint(), list index, f-string"
   ]
  },
  {
   "cell_type": "markdown",
   "id": "d4ad7584",
   "metadata": {},
   "source": [
    "**split()**: It's input is a string and it allows you to split a string into separate components based on a divider. A divider used for splitting a string is the argument of this method. The output is a \"divider\" separated **list** of each part of string that was split."
   ]
  },
  {
   "cell_type": "code",
   "execution_count": 2,
   "id": "c9f8e01b",
   "metadata": {},
   "outputs": [],
   "source": [
    "import random"
   ]
  },
  {
   "cell_type": "code",
   "execution_count": 7,
   "id": "e0f71012",
   "metadata": {},
   "outputs": [
    {
     "name": "stdout",
     "output_type": "stream",
     "text": [
      "Give everyone's name separated by a comma.\n",
      "Jagdish, Tirath, Purav, Suraj\n",
      "List of names after the split() is: ['Jagdish', ' Tirath', ' Purav', ' Suraj']\n",
      "According to random selection,  Suraj is going to buy the meal today.\n"
     ]
    }
   ],
   "source": [
    "# Following statement asks user for names of people who shared the meal.\n",
    "q = input(\"Give everyone's name separated by a comma.\\n\") # Jagdish, Tirath, Purav, Suraj\n",
    "\n",
    "# Following statement converts the string of names input by user into a list of comma separated names.\n",
    "namelist = q.split(\",\")\n",
    "print(f\"List of names after the split() is: {namelist}\")\n",
    "# Following statement generates random integers whose number is equal to the number of names input.\n",
    "# The random numbers generaetd also correspond to indexes of names in the list.\n",
    "random_pick = random.randint(0,len(namelist)-1)\n",
    "\n",
    "# Following statement selects the name in the list, that corresponds to the random number generated.\n",
    "meal_buyer = namelist[random_pick]\n",
    "\n",
    "print(f\"According to random selection, {meal_buyer} is going to buy the meal today.\")\n"
   ]
  }
 ],
 "metadata": {
  "kernelspec": {
   "display_name": "Python 3 (ipykernel)",
   "language": "python",
   "name": "python3"
  },
  "language_info": {
   "codemirror_mode": {
    "name": "ipython",
    "version": 3
   },
   "file_extension": ".py",
   "mimetype": "text/x-python",
   "name": "python",
   "nbconvert_exporter": "python",
   "pygments_lexer": "ipython3",
   "version": "3.9.12"
  }
 },
 "nbformat": 4,
 "nbformat_minor": 5
}

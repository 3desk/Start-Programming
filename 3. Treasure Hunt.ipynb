{
 "cells": [
  {
   "cell_type": "markdown",
   "id": "e86070bf",
   "metadata": {},
   "source": [
    "## 3. Treasure Hunt\n",
    "Concepts: print(), input(), if-elif-else condition, arithmetic operator, "
   ]
  },
  {
   "cell_type": "code",
   "execution_count": 44,
   "id": "d5604824",
   "metadata": {},
   "outputs": [
    {
     "name": "stdout",
     "output_type": "stream",
     "text": [
      "Welcome to Treasure Island!\n",
      "Your mission is to find the treasure.\n",
      "You're at a crossroad. Where do you want to go? \"left\" or \"right\".\n",
      "left\n",
      "You've come to a lake. There is an island in the middle of the lake. Type \"wait\" to wait for the boat or type \"swim\" to swim across.\n",
      "boat\n",
      "You have arrived at the island. There is a house with three doors one red, one blue and one yellow. Choose a door.\n",
      "yellow\n",
      "You found the treasure. You Win!\n"
     ]
    }
   ],
   "source": [
    "# Following statement prints the welcome statement for user.\n",
    "print(\"Welcome to Treasure Island!\")\n",
    "\n",
    "# Following statement prints the mission statement for user.\n",
    "print(\"Your mission is to find the treasure.\")\n",
    "\n",
    "# Following statement asks user whether she wants to go left or right.\n",
    "point1 = input('You\\'re at a crossroad. Where do you want to go? \"left\" or \"right\".\\n').lower()\n",
    "\n",
    "# Following statement decides the control of program if user chooses to go left.\n",
    "# If user chooses to go right on anywhere else than left, the control of program is transferred to corresponding else statement.\n",
    "if point1 == \"left\":\n",
    "# Following statement asks user for input, when he reaches the lake. The user may choose to swim or to wai for boat.\n",
    "    point2 = input('You\\'ve come to a lake. There is an island in the middle of the lake. Type \"wait\" to wait for the boat or type \"swim\" to swim across.\\n').lower()\n",
    "# Following \"if\" statement is executed if the condition evaluates to \"True\", \n",
    "# if it evaluates to \"False\" control is transferred to corresponding \"else\" statement.\n",
    "  \n",
    "    if point2 == \"wait\":\n",
    "# Following statement asks user for input (colour) when he reaches lake. \n",
    "        point3 = input(\"You have arrived at the island. There is a house with three doors one red, one blue and one yellow. Choose a door.\\n\").lower()\n",
    "# Following if-elif-else statements decide control of program depending upon the colour chosen by the user.\n",
    "        if point3 == \"red\":\n",
    "            print(\"There is fire in the room. Game Over.\")\n",
    "        elif point3 == \"yellow\":\n",
    "            print(\"You found the treasure. You Win!\")\n",
    "        elif point3 == \"blue\":\n",
    "            print(\"You got into a room of beasts. Game Over.\")\n",
    "        else:\n",
    "            print(\"You chose a door that doesn't exist. Game Over.\")\n",
    "    else:\n",
    "        print(\"There are crocodiles in the lake. Game Over.\")\n",
    "    \n",
    "else:\n",
    "    print(\"You have reached a dead end. Game Over.\")"
   ]
  }
 ],
 "metadata": {
  "kernelspec": {
   "display_name": "Python 3 (ipykernel)",
   "language": "python",
   "name": "python3"
  },
  "language_info": {
   "codemirror_mode": {
    "name": "ipython",
    "version": 3
   },
   "file_extension": ".py",
   "mimetype": "text/x-python",
   "name": "python",
   "nbconvert_exporter": "python",
   "pygments_lexer": "ipython3",
   "version": "3.9.12"
  }
 },
 "nbformat": 4,
 "nbformat_minor": 5
}

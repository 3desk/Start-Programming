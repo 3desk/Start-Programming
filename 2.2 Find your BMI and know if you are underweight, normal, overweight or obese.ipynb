{
 "cells": [
  {
   "cell_type": "markdown",
   "id": "e86070bf",
   "metadata": {},
   "source": [
    "## 2.2. Find your BMI and know if you are underweight, normal, overweight or obese.\n",
    "Concepts: print(), input(), type conversion of input, round(), if-elif-else, arithmetic operator(<, ** ) for interpolating variable BMI."
   ]
  },
  {
   "cell_type": "code",
   "execution_count": 1,
   "id": "519acf33",
   "metadata": {},
   "outputs": [
    {
     "name": "stdout",
     "output_type": "stream",
     "text": [
      "Welcome to BMI calculator!\n",
      "Please enter your age so that I may tell you if you are normal or obese!\n",
      "30\n",
      "Please enter your weight in kgs so that I may calculate your BMI!\n",
      "60\n",
      "Please enter your height in meters, so that I may calculate your BMI!\n",
      "1.59\n",
      "Your BMI is 23.73, you have normal weight.\n"
     ]
    }
   ],
   "source": [
    "# Following statement gives welcome statement as output.\n",
    "print(\"Welcome to BMI calculator!\")\n",
    "\n",
    "# Following statement asks age of the user, which will used as input for computation.\n",
    "age = int(input(\"Please enter your age so that I may tell you if you are normal or obese!\\n\"))\n",
    "\n",
    "# Following statement asks weight of the user, which will used as input for computation.\n",
    "weight = int(input(\"Please enter your weight in kgs so that I may calculate your BMI!\\n\"))\n",
    "\n",
    "# Following statement asks height of the user, which will used as input for computation.\n",
    "height = float(input(\"Please enter your height in meters, so that I may calculate your BMI!\\n\"))\n",
    "\n",
    "# Following statement computes BMI based on weight and height input by the user.\n",
    "# Following statement includes round() function, which restricts the output to two decimal places\n",
    "# based on parameters/arguments given to the function.\n",
    "BMI = round(weight/(height ** 2),2)\n",
    "\n",
    "# Following is \"if\" condition of \"if-elif-else\" statement. When \"if\" condition evaluates to\n",
    "# \"True\", the block of code indented next to it is executed. However, when it evaluates to \n",
    "# \"False\" the control of program is transferred to next conditional i.e. \"elif\" statement.\n",
    "if BMI < 18.5:\n",
    "    print(f\"Your BMI is {BMI}, you are underweight.\")\n",
    "# Following is first \"elif\" condition statement. The control of program is transferred to it\n",
    "# when the preceding \"if\" condition evaluates to \"False\". If this \"elif\" evaluates to \"True\"\n",
    "# then, the block of code indented next to it is executed. If this \"elif\" evaluates to \"False\"\n",
    "# then, the control of program is transferred to next \"elif\" (second \"elif\") statement.\n",
    "elif BMI < 25:\n",
    "    print(f\"Your BMI is {BMI}, you have normal weight.\")\n",
    "# Following is second \"elif\" condition statement. The control of program is transferred to it\n",
    "# when the preceding \"elif\" (first \"elif\" condition statement) condition evaluates to \"False\".\n",
    "# If this \"elif\" statement evaluates to \"True\", the block of code indented next to it is\n",
    "# executed. However, if it evaluates to \"False\", control of program is transferred to next\n",
    "# \"elif\" (third \"elif\" condition) condition statement.\n",
    "elif BMI < 30:\n",
    "    print(f\"Your BMI is {BMI}, you are overweight.\")\n",
    "# Following is third \"elif\" condition statement. The control of program is transferred to it\n",
    "# when the preceding \"elif\" second \"elif\" condition statement) condition evaluates to \"False\".\n",
    "# If this \"elif\" statement evaluates to \"True\", the block of code indented next to it is\n",
    "# executed. However, if it evaluates to \"False\", control of program is transferred to next\n",
    "# \"else\" statement.\n",
    "elif BMI < 35:\n",
    "    print(f\"Your BMI is {BMI}, you are obese.\")\n",
    "# Following is a \"else\" statement. It is the final statement(note: it does not take a condition)\n",
    "# of \"if-else\" block and of the program as well. It receives the control of program after all\n",
    "# preceding \"if\" and \"elif\" condition statements evaluate to \"False\". It executes the block of\n",
    "# code indented next to it.\n",
    "else:\n",
    "    print(f\"Your BMI is {BMI}, you are clinically obese.\")"
   ]
  }
 ],
 "metadata": {
  "kernelspec": {
   "display_name": "Python 3 (ipykernel)",
   "language": "python",
   "name": "python3"
  },
  "language_info": {
   "codemirror_mode": {
    "name": "ipython",
    "version": 3
   },
   "file_extension": ".py",
   "mimetype": "text/x-python",
   "name": "python",
   "nbconvert_exporter": "python",
   "pygments_lexer": "ipython3",
   "version": "3.9.12"
  }
 },
 "nbformat": 4,
 "nbformat_minor": 5
}

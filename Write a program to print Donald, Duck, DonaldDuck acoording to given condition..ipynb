{
 "cells": [
  {
   "cell_type": "markdown",
   "id": "14384850",
   "metadata": {},
   "source": [
    "##  Write a program to print \"Donald\" if a number is divisible by 3, \"Duck\" if a number is divisible by 5 and \"DonaldDuck\" if a number is divisible by both, in a given range of numbers.\n",
    "Concept: for-loop, in, range(), if-elif-else, modulo, arithmetic operator, logical operator, print()"
   ]
  },
  {
   "cell_type": "code",
   "execution_count": 3,
   "id": "30304eba",
   "metadata": {},
   "outputs": [
    {
     "name": "stdout",
     "output_type": "stream",
     "text": [
      "1\n",
      "2\n",
      "Donald\n",
      "4\n",
      "Duck\n",
      "Donald\n",
      "7\n",
      "8\n",
      "Donald\n",
      "Duck\n",
      "11\n",
      "Donald\n",
      "13\n",
      "14\n",
      "DonaldDuck\n",
      "16\n",
      "17\n",
      "Donald\n",
      "19\n",
      "Duck\n",
      "Donald\n",
      "22\n",
      "23\n",
      "Donald\n",
      "Duck\n",
      "26\n",
      "Donald\n",
      "28\n",
      "29\n",
      "DonaldDuck\n",
      "31\n",
      "32\n",
      "Donald\n",
      "34\n",
      "Duck\n",
      "Donald\n",
      "37\n",
      "38\n",
      "Donald\n",
      "Duck\n",
      "41\n",
      "Donald\n",
      "43\n",
      "44\n",
      "DonaldDuck\n",
      "46\n",
      "47\n",
      "Donald\n",
      "49\n",
      "Duck\n"
     ]
    }
   ],
   "source": [
    "for number in range(1,51):\n",
    "    if number % 3 == 0 and number % 5 == 0 :\n",
    "        print(\"DonaldDuck\")\n",
    "    elif number % 5 == 0:\n",
    "        print(\"Duck\")\n",
    "    elif number % 3 == 0:\n",
    "        print(\"Donald\")\n",
    "    else:\n",
    "        print(number)"
   ]
  }
 ],
 "metadata": {
  "kernelspec": {
   "display_name": "Python 3 (ipykernel)",
   "language": "python",
   "name": "python3"
  },
  "language_info": {
   "codemirror_mode": {
    "name": "ipython",
    "version": 3
   },
   "file_extension": ".py",
   "mimetype": "text/x-python",
   "name": "python",
   "nbconvert_exporter": "python",
   "pygments_lexer": "ipython3",
   "version": "3.9.12"
  }
 },
 "nbformat": 4,
 "nbformat_minor": 5
}

{
 "cells": [
  {
   "cell_type": "markdown",
   "id": "e86070bf",
   "metadata": {},
   "source": [
    "## 2.3. Find if a given year is a leap year or not?\n",
    "Concepts: input(), type conversion of input from string to integer, if-else(nested), mod-operator, \"==\", f-string for variable inerpolation."
   ]
  },
  {
   "cell_type": "code",
   "execution_count": 3,
   "id": "609f378c",
   "metadata": {},
   "outputs": [
    {
     "name": "stdout",
     "output_type": "stream",
     "text": [
      "Please enter the year, and I will tell you if it is a leap year or not?\n",
      "1988\n",
      "The year 1988 is a leap year.\n"
     ]
    }
   ],
   "source": [
    "# Leap Year: All years that are multiples of 4 and 400(i.e. 40, 60,2000, 1988, but not 100 (i.e. 2100, 1100) are leap years.\n",
    "\n",
    "# Following statement asks user to input year about which they want to know, whether it is a leap year.\n",
    "year = int(input(\"Please enter the year, and I will tell you if it is a leap year or not?\\n\"))\n",
    "\n",
    "# Following \"if\" condition of nested \"if-else\" set of conditional statements checks whether the given year is a multiple\n",
    "# of 4 or not.(It should be noted that all leap years are multiples of four, however not all years that are multiple of 4, are leap years).\n",
    "# If it evaluates to \"True\", control of program is trasferred to nested \"if\"(second \"if\" condition) condition. However, if it eavaluates to \"False\",\n",
    "# control of program is transferred to corresponding \"else\" statement.(third or last \"else\" statement)\n",
    "if year % 4 == 0:\n",
    "# Following is nested \"if\" condition (second \"if\" condition). It receives control of program after first \"if\" condition evaluates to \"True\".\n",
    "    if year % 100 == 0:\n",
    "# Following is nested \"if\" condition (third \"if\" condition). It receives control of program after second \"if\" condition evaluates to \"True\".\n",
    "        if year % 400 == 0:\n",
    "            print(f\"The year {year} is a leap year.\")  # 400, 2000, %4 == 0% 100 == 0% 400 == 0\n",
    "# Following \"else\" statement corresponds to third \"if\" statement. It receives the control of program, when third \"if\" condition evaluates to \"False\".\n",
    "        else:           \n",
    "            print(f\"The year {year} is not a leap year.\") # 2100,%4 == 0, %100 ==0, %400 !=0\n",
    "# Following \"else\" statement corresponds to second \"if\" statement. It receives the control of program, when second \"if\" condition evaluates to \"False\".\n",
    "    else:\n",
    "        print(f\"The year {year} is a leap year.\")  # 1992, 1988,% 4== 0, % 100 != 0, % 400 != 0\n",
    "# Following \"else\" statement corresponds to first \"if\" statement. It receives the control of program, when first \"if\" condition evaluates to \"False\".\n",
    "else:           \n",
    "    print(f\"The year {year} is not a leap year.\")  # 1993, 1801 i.e. % 4 != 0,: not a leap year"
   ]
  }
 ],
 "metadata": {
  "kernelspec": {
   "display_name": "Python 3 (ipykernel)",
   "language": "python",
   "name": "python3"
  },
  "language_info": {
   "codemirror_mode": {
    "name": "ipython",
    "version": 3
   },
   "file_extension": ".py",
   "mimetype": "text/x-python",
   "name": "python",
   "nbconvert_exporter": "python",
   "pygments_lexer": "ipython3",
   "version": "3.9.12"
  }
 },
 "nbformat": 4,
 "nbformat_minor": 5
}

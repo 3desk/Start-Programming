{
 "cells": [
  {
   "cell_type": "markdown",
   "id": "45417b73",
   "metadata": {},
   "source": [
    "### Simple Function"
   ]
  },
  {
   "cell_type": "code",
   "execution_count": 10,
   "id": "3f73623e",
   "metadata": {},
   "outputs": [
    {
     "name": "stdout",
     "output_type": "stream",
     "text": [
      "Hello!\n",
      "Welcome to Functions.\n",
      "Have a nice day.\n"
     ]
    }
   ],
   "source": [
    "# Following statement defines the function.\n",
    "def greet():\n",
    "# Following indented block of code constitutes the code that will be executed once function is called.\n",
    "    print(\"Hello!\")\n",
    "    print(\"Welcome to Functions.\")\n",
    "    print(\"Have a nice day.\")\n",
    "    \n",
    "# Following statement calls/triggers the function.\n",
    "greet()"
   ]
  },
  {
   "cell_type": "markdown",
   "id": "b59d615b",
   "metadata": {},
   "source": [
    "### Functions that allow for input."
   ]
  },
  {
   "cell_type": "code",
   "execution_count": 41,
   "id": "1ce6d119",
   "metadata": {},
   "outputs": [
    {
     "name": "stdout",
     "output_type": "stream",
     "text": [
      "Hello Jagdish !\n",
      "Welcome to Functions, Jagdish.\n",
      "Have a nice day.\n",
      "Hello Pawan !\n",
      "Welcome to Functions, Pawan.\n",
      "Have a nice day.\n"
     ]
    }
   ],
   "source": [
    "# Following statement defines the function with a parameter.\n",
    "def greet_with_name(name):\n",
    "    \n",
    "# Following indented block of code constitutes the code that will be executed once function is called.\n",
    "# The manner in which the parameter is joined in first two statements is different.    \n",
    "    print(\"Hello\",name,\"!\")\n",
    "    print(f\"Welcome to Functions, {name}.\")\n",
    "    print(\"Have a nice day.\")\n",
    "    \n",
    "# Following statement calls/triggers the function with an argument each.\n",
    "greet_with_name(\"Jagdish\")\n",
    "greet_with_name(\"Pawan\")"
   ]
  },
  {
   "cell_type": "markdown",
   "id": "467ef257",
   "metadata": {},
   "source": [
    "### Functions with more than one input.\n",
    "The following function is being called with positional arguments."
   ]
  },
  {
   "cell_type": "code",
   "execution_count": 43,
   "id": "5ad5a460",
   "metadata": {},
   "outputs": [
    {
     "name": "stdout",
     "output_type": "stream",
     "text": [
      "Hello Jagdish\n",
      "Welcome to Functions, Jagdish\n",
      "Have a nice day in Townpur\n",
      "Hello Pawan\n",
      "Welcome to Functions, Pawan\n",
      "Have a nice day in 9\n"
     ]
    }
   ],
   "source": [
    "# Following statement defines the function with a parameter.\n",
    "def greet_with_name_location(name, location):\n",
    "    \n",
    "# Following indented block of code constitutes the code that will be executed once function is called.\n",
    "    print(\"Hello\",name)\n",
    "    print(f\"Welcome to Functions, {name}\")\n",
    "    print(f\"Have a nice day in {location}\")\n",
    "    \n",
    "# Following statement calls/triggers the function with their respective argument.\n",
    "# Note: The parameter location has different argument datatypes in following two function calls.\n",
    "# Note: Function is bein called with positional arguments, i.e. order of argument allocation is same as order of parameters input.\n",
    "greet_with_name_location(\"Jagdish\", \"Townpur\")\n",
    "greet_with_name_location(\"Pawan\", 9)"
   ]
  },
  {
   "cell_type": "markdown",
   "id": "e0391f1f",
   "metadata": {},
   "source": [
    "### Functions with more than one input.(called with key word arguments)\n",
    "The following function is being called with key word arguments."
   ]
  },
  {
   "cell_type": "code",
   "execution_count": 44,
   "id": "11fa7302",
   "metadata": {},
   "outputs": [
    {
     "name": "stdout",
     "output_type": "stream",
     "text": [
      "Hello Townpur\n",
      "Welcome to Functions, Townpur\n",
      "Have a nice day in Jagdish\n",
      "Hello 9\n",
      "Welcome to Functions, 9\n",
      "Have a nice day in Pawan\n"
     ]
    }
   ],
   "source": [
    "# Following statement defines the function with a parameter.\n",
    "def greet_with_name_location(name, location):\n",
    "    \n",
    "# Following indented block of code constitutes the code that will be executed once function is called.\n",
    "    print(\"Hello\",name)\n",
    "    print(f\"Welcome to Functions, {name}\")\n",
    "    print(f\"Have a nice day in {location}\")\n",
    "    \n",
    "# Following statement calls/triggers the function with their respective argument.\n",
    "# Note: The parameter \"location\" has different argument datatypes in following two function calls.\n",
    "# Note: The function is being called with key word argument, i.e. \n",
    "# position of argument does not decided which parameter will it be assigned to. \n",
    "# Key word used in parameter is specified to assign argument. \n",
    "greet_with_name_location(location =\"Jagdish\", name = \"Townpur\")\n",
    "greet_with_name_location(location = \"Pawan\", name =9)"
   ]
  }
 ],
 "metadata": {
  "kernelspec": {
   "display_name": "Python 3 (ipykernel)",
   "language": "python",
   "name": "python3"
  },
  "language_info": {
   "codemirror_mode": {
    "name": "ipython",
    "version": 3
   },
   "file_extension": ".py",
   "mimetype": "text/x-python",
   "name": "python",
   "nbconvert_exporter": "python",
   "pygments_lexer": "ipython3",
   "version": "3.9.12"
  }
 },
 "nbformat": 4,
 "nbformat_minor": 5
}

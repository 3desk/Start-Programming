{
 "cells": [
  {
   "cell_type": "markdown",
   "id": "e86070bf",
   "metadata": {},
   "source": [
    "## 2.1. Find if a person can GoKart, and if yes, how much do they need to pay.\n",
    "#### Concept: Conditionals(if, else, elif), comparison operators(>), assignment operator(=,:), code blocks and nested if-else, input() in nested if-else."
   ]
  },
  {
   "cell_type": "markdown",
   "id": "a55107ea",
   "metadata": {},
   "source": [
    "if-else: depending upon particular condition we do either a or b."
   ]
  },
  {
   "cell_type": "code",
   "execution_count": 1,
   "id": "c6ea81c4",
   "metadata": {},
   "outputs": [
    {
     "name": "stdout",
     "output_type": "stream",
     "text": [
      "Welcome to GoKart arena!\n",
      "What is your height in centimeters?\n",
      "125\n",
      "You may GoKart!\n",
      "Please enter your age?\n",
      "16\n",
      "You have to pay Rs.15\n"
     ]
    }
   ],
   "source": [
    "# Following statement prints welcome statement on screen.\n",
    "print(\"Welcome to GoKart arena!\")\n",
    "\n",
    "# Following statement asks user for their height, it is an input for computation.\n",
    "height = float(input(\"What is your height in centimeters?\\n\"))\n",
    "\n",
    "# Following statement is an \"if-else\" condition(flow control statement) that checks if the height\n",
    "# of user is more than a certain value. When evaluation of \"if\" condition returns \"True\" then, \n",
    "# the block of code indented to \"if\" statement is executed. However, when evaluation of \"if\"\n",
    "# condition returns \"False\", the flow of control(order of execution) is transferred to the \n",
    "# corresponding \"else\" statement.\n",
    "\n",
    "if height >= 110:\n",
    "    print(\"You may GoKart!\")\n",
    "    age = int(input(\"Please enter your age?\\n\"))\n",
    "# Following is a nested \"if\" statement. It evaluates another condition after condition of \n",
    "# initial \"if\" statement evaluates to \"True\". When nested \"if\" condition evaluates to \"True\"\n",
    "# the block of code indented next to it is executed. When nested \"if\" evaluates to \"False\"\n",
    "# the control of program is transferred to following \"elif\" condition.\n",
    "    if age >= 18:\n",
    "        print(\"You have to pay Rs.20\")\n",
    "# Following is nested \"elif\" statement. It is evaluated when nested \"if\" statement evaluates to\n",
    "# \"False\". When evaluation of nested \"elif\" returns \"True\" the block of code indented next to \n",
    "# it is executed. However, when it evaluates to \"False\", the control of program is transferred to\n",
    "# nested \"else\" statement.\n",
    "    elif age >= 12:\n",
    "        print(\"You have to pay Rs.15\")\n",
    "# Following is nested \"else\" statement. The control of program is transferred to this statement\n",
    "# when nested \"elif\" condition evaluates to \"False\". The \"else\" statement executes the block\n",
    "# of code indented next to it.\n",
    "    else:\n",
    "        print(\"You have to pay Rs.10\")\n",
    "# Following is an \"else\" statement. It receives the control of program when initial \"if\" \n",
    "# condition evaluates to \"False\". It executes the block of code indented next to it.\n",
    "else:\n",
    "    print(\"You may not GoKart.\")"
   ]
  },
  {
   "cell_type": "markdown",
   "id": "ffb23631",
   "metadata": {},
   "source": [
    "- The important things here are:(i) \"condition\" which we are testing( is the value of height we are testing greater than 110?), (ii) the syntax of code(key words \"if\" and \"else\" as well as colons that come after each of the key word statements and finally, (iii) the indentation. Everything that is indented after key word statements is a block of code, it effectively lives inside the key word statement.\n",
    "- \"if\" and \"else\" are a pair. \"if\" block of code is executed when the condition being tested is true and the \"else\" block of code is executed when the condition being tested is false.\n",
    "- \">\" and \"=\" in the above code are comparison operators.\n",
    "- We may have \"if\" and \"else\" statements nested in the block of code of another \"if\" and \"else\" statement."
   ]
  }
 ],
 "metadata": {
  "kernelspec": {
   "display_name": "Python 3 (ipykernel)",
   "language": "python",
   "name": "python3"
  },
  "language_info": {
   "codemirror_mode": {
    "name": "ipython",
    "version": 3
   },
   "file_extension": ".py",
   "mimetype": "text/x-python",
   "name": "python",
   "nbconvert_exporter": "python",
   "pygments_lexer": "ipython3",
   "version": "3.9.12"
  }
 },
 "nbformat": 4,
 "nbformat_minor": 5
}

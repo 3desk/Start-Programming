{
 "cells": [
  {
   "cell_type": "markdown",
   "id": "e86070bf",
   "metadata": {},
   "source": [
    "##  Treasure Map\n",
    "### To put treasure(\"x\") at a selected position in Treasure Map.\n",
    "#### Treasure map is grid of 3 nested lists.\n",
    "Concepts: list, nested list, input(), type conversion of input(string) into int,list index, f-string."
   ]
  },
  {
   "cell_type": "code",
   "execution_count": 15,
   "id": "1de92562",
   "metadata": {},
   "outputs": [
    {
     "name": "stdout",
     "output_type": "stream",
     "text": [
      "Where do you want to put the treasure.?\n",
      "21\n",
      "['a', 'x', 'a']\n",
      "['a', 'a', 'a']\n",
      "['a', 'a', 'a']\n"
     ]
    }
   ],
   "source": [
    "# Following statements point to three lists in their respective variables.\n",
    "row1 = [\"a\", \"a\", \"a\"]\n",
    "row2 = [\"a\", \"a\", \"a\"]\n",
    "row3 = [\"a\", \"a\", \"a\"]\n",
    "\n",
    "# Following statements makes a nested list of three lists created earlier.\n",
    "treasure_map = [row1, row2, row3]\n",
    "\n",
    "\n",
    "# Following statement asks user for position of treasure in grid of list of lists i.e. treasure_map.\n",
    "# The input shuld be a to digit number, first digit counts the position of treasure horizontally and the second digit counts the position of map vertically in grid.\n",
    "treasure = input(\"Where do you want to put the treasure.?\\n\")\n",
    "\n",
    "# Following statement gets hold of the column in nested list(treasure_map) at the given index.\n",
    "horizontal = int(treasure[0]) # This counts index horizontally.\n",
    "\n",
    "# Following statement gets hold of the nested list at the given index.\n",
    "vertical = int(treasure[1]) # This counts index vertically\n",
    "\n",
    "\n",
    "selected_row = treasure_map[vertical - 1]\n",
    "selected_row[horizontal - 1] = \"x\"\n",
    "\n",
    "\n",
    "print(f\"{row1}\\n{row2}\\n{row3}\")"
   ]
  }
 ],
 "metadata": {
  "kernelspec": {
   "display_name": "Python 3 (ipykernel)",
   "language": "python",
   "name": "python3"
  },
  "language_info": {
   "codemirror_mode": {
    "name": "ipython",
    "version": 3
   },
   "file_extension": ".py",
   "mimetype": "text/x-python",
   "name": "python",
   "nbconvert_exporter": "python",
   "pygments_lexer": "ipython3",
   "version": "3.9.12"
  }
 },
 "nbformat": 4,
 "nbformat_minor": 5
}

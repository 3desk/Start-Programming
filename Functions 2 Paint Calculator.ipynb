{
 "cells": [
  {
   "cell_type": "markdown",
   "id": "59fd82f4",
   "metadata": {},
   "source": [
    "### Paint calculator"
   ]
  },
  {
   "cell_type": "code",
   "execution_count": 15,
   "id": "79f7380d",
   "metadata": {},
   "outputs": [
    {
     "name": "stdout",
     "output_type": "stream",
     "text": [
      "Height of wall: 9\n",
      "Width of wall: 7\n",
      "13 litres of paint is required for wall.\n"
     ]
    }
   ],
   "source": [
    "# Following statement imports math module.\n",
    "import math\n",
    "# Following statement defines the function.\n",
    "def paint_calc(height, width, cover):\n",
    "# Following statement calculates area based on input parameters.\n",
    "    area = height * width\n",
    "# Following statement calculates litres of paint required.\n",
    "    paint_litre = math.ceil(area / cover)\n",
    "    print(f\"{paint_litre} litres of paint is required for wall.\")\n",
    "# Following statement takes height of wall as input from user.\n",
    "test_h = int(input(\"Height of wall: \"))\n",
    "# Following statement takes width of wall as input from user.\n",
    "test_w = int(input(\"Width of wall: \"))\n",
    "# Following statement assigns value to variable coverage.\n",
    "coverage = 5\n",
    "# Following statement calls the function by naming, key word parameters.\n",
    "paint_calc(height=test_h, width=test_w, cover=coverage)"
   ]
  }
 ],
 "metadata": {
  "kernelspec": {
   "display_name": "Python 3 (ipykernel)",
   "language": "python",
   "name": "python3"
  },
  "language_info": {
   "codemirror_mode": {
    "name": "ipython",
    "version": 3
   },
   "file_extension": ".py",
   "mimetype": "text/x-python",
   "name": "python",
   "nbconvert_exporter": "python",
   "pygments_lexer": "ipython3",
   "version": "3.9.12"
  }
 },
 "nbformat": 4,
 "nbformat_minor": 5
}

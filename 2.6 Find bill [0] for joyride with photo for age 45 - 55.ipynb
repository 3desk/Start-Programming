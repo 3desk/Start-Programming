{
 "cells": [
  {
   "cell_type": "markdown",
   "id": "e86070bf",
   "metadata": {},
   "source": [
    "## 2.6 Find bill [0] for joyride with photo for age 45 - 55.\n",
    "Concepts: input(), type conversion of input, if-else(nested), using variable for summation, arithmetic operator, logical operator \"and\", f-string for variable interpolation."
   ]
  },
  {
   "cell_type": "code",
   "execution_count": 3,
   "id": "f0a95c44",
   "metadata": {},
   "outputs": [
    {
     "name": "stdout",
     "output_type": "stream",
     "text": [
      "What is your height in centimeters?\n",
      "125\n",
      "What is your age in years?\n",
      "50\n",
      "Everything is going to be ok. Have a ride on us.\n",
      "Do you want a photo of your ride? Y or N\n",
      "Y\n",
      "Your final bill is 3\n"
     ]
    }
   ],
   "source": [
    "# Following statement asks user for their height in centimeters.\n",
    "height = int(input(\"What is your height in centimeters?\\n\"))\n",
    "\n",
    "# Following statement initialises variable to be used for summation in program.\n",
    "bill = 0\n",
    "\n",
    "# Following \"if\" condition (first if condition) checks whether the height of user is above certain value. \n",
    "# If it evaluates to \"True\" indented block next to it is executed. If it evaluates to \"False\" control of\n",
    "# program is transferred to corresponding \"else\" statement.\n",
    "if height >=120:\n",
    "# Following statement asks user for their age. It is nested in first \"if\" statement. The effect of\n",
    "# nesting input is that the user is asked for age only if, first \"if\" condition evaluates to \"True\".\n",
    "    age = int(input(\"What is your age in years?\\n\"))\n",
    "# Following is nested \"if\", second \"if\" condition statement. It checks whether age of user is below a certain number.\n",
    "# If \"if\" condition evaluates to \"True\" a certain value is added to initial value of variable. \n",
    "# However, if \"if\" condition evaluates to \"False\" the control of program is transferred to next \"elif\" statement.\n",
    "    if age < 12:\n",
    "# Following is the variable used for summation, to calculate final bill. \n",
    "        bill += 5\n",
    "        print(f\"Child tickets are Rs.{bill}\")\n",
    "# Following statement is \"elif\" condition statement that evaluates whether the age user is below another value.\n",
    "# If it evaluates to \"True\" the block of code indented next to it is executed. However, if it evaluates to\n",
    "# \"False\", the control of program is transferred to next \"else\" statement.\n",
    "    elif age <= 18:\n",
    "# Following is the variable used for summation, to calculate final bill. \n",
    "        bill += 10\n",
    "        print(f\"Youth tickets are Rs.{bill}\")\n",
    "# Following \"elif\" statement does not charge aperson in age group 45-55 for the ride. \n",
    "    elif age >= 45 and age <= 55:\n",
    "        print(\"Everything is going to be ok. Have a ride on us.\")\n",
    "# Following is \"else\" statement. It is executed after all the conditional statements before it are evaluated to \"False\". \n",
    "    else:\n",
    "        bill += 20\n",
    "        print(f\"Adult tickets are Rs.{bill}\")   \n",
    "# Following nested statement asks user whether they wish to take a photo of their ride.        \n",
    "    with_photo = input(\"Do you want a photo of your ride? Y or N\\n\")\n",
    "# Following is a \"if\" condition that checks whether the user wishes to take a photo. If user wishes to\n",
    "# to take a photo it adds the price of photo to bill.\n",
    "    if with_photo == \"Y\":\n",
    "        bill += 3\n",
    "# Following statement gives the output as final bill amount. It must be noted that it is not in the \n",
    "# indented block of \"if\" statement that asks user whether they wish to take a photo. The effect of this\n",
    "# statement being outside the indented block of immediately preceeding \"if\" statement is that it accepts\n",
    "# the final bill amount with photo if users chooses to take a photo, and if user chooses not to take photo,\n",
    "# it prints the value of bill that was before the \"if\" condition that asks for photo.\n",
    "    print(f\"Your final bill is {bill}\")\n",
    "else:\n",
    "    print(\"Sorry, you have to grow taller to book a ride.\")\n",
    "    "
   ]
  }
 ],
 "metadata": {
  "kernelspec": {
   "display_name": "Python 3 (ipykernel)",
   "language": "python",
   "name": "python3"
  },
  "language_info": {
   "codemirror_mode": {
    "name": "ipython",
    "version": 3
   },
   "file_extension": ".py",
   "mimetype": "text/x-python",
   "name": "python",
   "nbconvert_exporter": "python",
   "pygments_lexer": "ipython3",
   "version": "3.9.12"
  }
 },
 "nbformat": 4,
 "nbformat_minor": 5
}

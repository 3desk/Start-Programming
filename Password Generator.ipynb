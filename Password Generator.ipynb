{
 "cells": [
  {
   "cell_type": "markdown",
   "id": "46af73b3",
   "metadata": {},
   "source": [
    "##  Password Generator\n",
    "\n",
    "#### Generate a password from 3 lists of letters, numbers and symbols.\n",
    "Concept: random, for-loop, random.choice(), random.sample()"
   ]
  },
  {
   "cell_type": "code",
   "execution_count": 4,
   "id": "abb54d92",
   "metadata": {},
   "outputs": [
    {
     "name": "stdout",
     "output_type": "stream",
     "text": [
      "Welcome to the password generator!\n",
      "\n",
      "How many letters would you like in your password ?\n",
      "4\n",
      "How many symbols would you like in your password ?\n",
      "2\n",
      "How many numbers would you like in your password ?\n",
      "2\n",
      "The password is 4rED&$U8.\n"
     ]
    }
   ],
   "source": [
    "# Following statement imports the random module.\n",
    "import random\n",
    "\n",
    "# Following are the initialisers for letters, numbers and symbols.\n",
    "# Password has to be selected from characters in the following 3 lists.\n",
    "letters = [\"a\", \"b\", \"c\", \"d\", \"e\", \"f\", \"g\", \"h\", \"i\", \"j\", \"k\", \"l\", \"m\", \n",
    "           \"n\", \"o\", \"p\", \"q\", \"r\", \"s\",\"t\", \"t\", \"u\", \"v\", \"w\", \"x\", \"y\", \"z\", \n",
    "           \"A\", \"B\", \"C\", \"D\", \"E\", \"F\", \"G\", \"H\", \"I\", \"J\", \"K\", \"L\", \"M\",\n",
    "          \"N\", \"O\", \"P\", \"Q\", \"R\", \"S\", \"T\", \"U\", \"V\", \"W\", \"X\", \"Y\", \"Z\"]\n",
    "numbers = [\"1\", \"2\", \"3\", \"4\", \"5\", \"6\", \"7\", \"8\", \"9\", \"0\"]\n",
    "symbols = [\"!\", \"@\", \"#\", \"$\", \"%\", \"&\", \"(\", \")\", \"+\", \"*\"]\n",
    "\n",
    "# Following statement prints the welcome statement for the user.\n",
    "print(\"Welcome to the password generator!\\n\")\n",
    "\n",
    "# Following three statements ask user for number of each type of characters they want in password.\n",
    "num_letters = int(input(\"How many letters would you like in your password ?\\n\"))\n",
    "num_symbols = int(input(\"How many symbols would you like in your password ?\\n\"))\n",
    "num_numbers = int(input(\"How many numbers would you like in your password ?\\n\"))\n",
    "\n",
    "# Following statement is an empty string, which will be used as an accumulator for characters in the password.\n",
    "pass_char = \"\"\n",
    "\n",
    "# Following \"for\" loop iterates through the list(letters) and randomly selects the number of letters user has asked for in the password, from the list(letters), .\n",
    "# How many letters will be selected i.e. the number of times the loop will run, which  depends upon the range argument, which in turn depends upon character requirement input by the user.\n",
    "for letter in range(1,num_letters + 1):\n",
    "# Following statement cocatenates the randomly selected characters from the list(letters) to password accumulator pass_char.\n",
    "    pass_char += random.choice(letters)\n",
    "\n",
    "# Following \"for\" loop iterates through the list(numbers) and randomly selects the number of numbers user has asked for in the password, from the list(numbers), .\n",
    "# How many numbers will be selected i.e. the number of times the loop will run, which depends upon the range argument, which in turn depends upon character requirement input by the user.\n",
    "for number in range(1,num_numbers + 1):\n",
    "# Following statement cocatenates the randomly selected characters from list(numbers) to password accumulator pass_char.\n",
    "    pass_char += random.choice(numbers)\n",
    "\n",
    "# Following \"for\" loop iterates through the list(symbols) and randomly selects the number of symbols user has asked for in the password, from the list(symbols), .\n",
    "# How many letters will be selected i.e. the number of times the loop will run, which depends upon the range argument, which in turn depends upon character requirement input by the user.\n",
    "for symbol in range(1, num_symbols + 1):\n",
    "# Following statement cocatenates the randomly selected characters from list(symbols) to password accumulator pass_char.\n",
    "    pass_char += random.choice(symbols)\n",
    "\n",
    "# The password accumulated in pass_char is grouped into letters, numbers and symbols.\n",
    "# Following statement randomly shuffles the password accumulated in varible pass_char.\n",
    "password = ''.join(random.sample(pass_char, len(pass_char)))\n",
    "    \n",
    "print(f\"The password is {password}.\")"
   ]
  }
 ],
 "metadata": {
  "kernelspec": {
   "display_name": "Python 3 (ipykernel)",
   "language": "python",
   "name": "python3"
  },
  "language_info": {
   "codemirror_mode": {
    "name": "ipython",
    "version": 3
   },
   "file_extension": ".py",
   "mimetype": "text/x-python",
   "name": "python",
   "nbconvert_exporter": "python",
   "pygments_lexer": "ipython3",
   "version": "3.9.12"
  }
 },
 "nbformat": 4,
 "nbformat_minor": 5
}

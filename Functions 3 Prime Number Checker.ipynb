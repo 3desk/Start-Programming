{
 "cells": [
  {
   "cell_type": "markdown",
   "id": "3ab41141",
   "metadata": {},
   "source": [
    "### Check if a number is prime or not."
   ]
  },
  {
   "cell_type": "code",
   "execution_count": 25,
   "id": "a7bade81",
   "metadata": {},
   "outputs": [
    {
     "name": "stdout",
     "output_type": "stream",
     "text": [
      "Check this number: 89\n",
      "It's a prime number.\n"
     ]
    }
   ],
   "source": [
    "import math\n",
    "def prime_checker(number):\n",
    "    is_prime = True\n",
    "    for i in range(2,n):        \n",
    "        if n % i == 0:\n",
    "            is_prime = False\n",
    "    if is_prime:\n",
    "        print(\"It's a prime number.\")\n",
    "    else:\n",
    "        print(\"It's not a prime number.\")\n",
    "\n",
    "n = int(input(\"Check this number: \"))\n",
    "prime_checker(number=n)"
   ]
  }
 ],
 "metadata": {
  "kernelspec": {
   "display_name": "Python 3 (ipykernel)",
   "language": "python",
   "name": "python3"
  },
  "language_info": {
   "codemirror_mode": {
    "name": "ipython",
    "version": 3
   },
   "file_extension": ".py",
   "mimetype": "text/x-python",
   "name": "python",
   "nbconvert_exporter": "python",
   "pygments_lexer": "ipython3",
   "version": "3.9.12"
  }
 },
 "nbformat": 4,
 "nbformat_minor": 5
}

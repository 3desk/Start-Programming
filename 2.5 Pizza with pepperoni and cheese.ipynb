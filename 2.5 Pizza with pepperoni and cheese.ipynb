{
 "cells": [
  {
   "cell_type": "markdown",
   "id": "e86070bf",
   "metadata": {},
   "source": [
    "## 2.5 Calculate bill for Pizza with pepperoni and cheese\n",
    "Concepts:print(), input(), variable for sum, if-else(nested), arithmetic operator, f-string for variable interpolation"
   ]
  },
  {
   "cell_type": "code",
   "execution_count": 1,
   "id": "fb228bab",
   "metadata": {},
   "outputs": [
    {
     "name": "stdout",
     "output_type": "stream",
     "text": [
      "Welcome to First Pizza Delivery!\n",
      "What size pizza do you want? S, M OR L\n",
      "L\n",
      "Do you want pepperoni? Y or N\n",
      "N\n",
      "Do you want extra cheese? Y or N\n",
      "Y\n",
      "The total amount payable is Rs.26\n"
     ]
    }
   ],
   "source": [
    "# Following statement is welcome statement for user to First Pizza Delivery service.\n",
    "print(\"Welcome to First Pizza Delivery!\")\n",
    "\n",
    "# Following statement asks user for size of pizza they wish to buy.\n",
    "size = input(\"What size pizza do you want? S, M OR L\\n\")\n",
    "\n",
    "# Following statement asks user to choose if they want pepperoni or not.\n",
    "add_pepperoni = input(\"Do you want pepperoni? Y or N\\n\")\n",
    "\n",
    "# Following statement asks user to choose if they want extra_cheese or not.\n",
    "extra_cheese = input(\"Do you want extra cheese? Y or N\\n\")\n",
    "\n",
    "# Following statement initialises summation variable.\n",
    "bill = 0\n",
    "\n",
    "# Following \"if\" and \"elif\" conditions add value to summation variable depending upon which pizza size user has chosen.\n",
    "if size == \"S\":\n",
    "    bill =+ 15\n",
    "elif size == \"M\":\n",
    "    bill += 20\n",
    "elif size == \"L\":\n",
    "    bill =+ 25\n",
    "    \n",
    "# Following \"if\" statement checks whether user has chosen pepperoni or not.\n",
    "if add_pepperoni == \"Y\":\n",
    "# If user has chosen pepperoni, then the following statement adds a certain value to bill fora small pizza. \n",
    "    if size ==\"S\":\n",
    "        bill += 2\n",
    "# If user has chosen pepperoni, then the following statement adds a certain value to bill for medium and large pizza. \n",
    "    else:\n",
    "        bill += 3\n",
    "\n",
    "# Following statement checks if user has ordered extra-cheese. If user has ordered extra-cheese then a certain value\n",
    "# is added to bill for that extra cheese.\n",
    "if extra_cheese == \"Y\":\n",
    "    bill += 1\n",
    "print(f\"The total amount payable is Rs.{bill}\")  "
   ]
  }
 ],
 "metadata": {
  "kernelspec": {
   "display_name": "Python 3 (ipykernel)",
   "language": "python",
   "name": "python3"
  },
  "language_info": {
   "codemirror_mode": {
    "name": "ipython",
    "version": 3
   },
   "file_extension": ".py",
   "mimetype": "text/x-python",
   "name": "python",
   "nbconvert_exporter": "python",
   "pygments_lexer": "ipython3",
   "version": "3.9.12"
  }
 },
 "nbformat": 4,
 "nbformat_minor": 5
}

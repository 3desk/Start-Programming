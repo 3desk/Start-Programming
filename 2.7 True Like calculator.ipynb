{
 "cells": [
  {
   "cell_type": "markdown",
   "id": "e86070bf",
   "metadata": {},
   "source": [
    "## 2.7 True Like calculator: Calculate whether you are likely to get a \"like\" from a person.\n",
    "Concepts: print(), input(), string concatenation, lower(), count(), concatenating numbers as string and then converting the combined number into an integer, arithmetic operator, logical operator, f-string for variable interpolation."
   ]
  },
  {
   "cell_type": "code",
   "execution_count": 2,
   "id": "2e7e92f9",
   "metadata": {},
   "outputs": [
    {
     "name": "stdout",
     "output_type": "stream",
     "text": [
      "Welcome to Like calculator.\n",
      "What's your name?\n",
      "Jagdish\n",
      "What's their name?\n",
      "Singh\n",
      "Your score is 2, you go together like coke and mentos.\n"
     ]
    }
   ],
   "source": [
    "# Following statement prints the welcome statement for Like calculator.\n",
    "print(\"Welcome to Like calculator.\")\n",
    "\n",
    "# Following statement asks for their name.\n",
    "name1 = input(\"What's your name?\\n\")\n",
    "\n",
    "# Following statement asks user for their friend's name.\n",
    "name2 = input(\"What's their name?\\n\")\n",
    "\n",
    "# Following statement concatenates the two names, so that we may count letters in both, at once.\n",
    "both_names = name1 + name2\n",
    "\n",
    "# Following statement converts both names into lower case, so that count is not affected by case of alphabet.\n",
    "lower_case_names = both_names.lower()\n",
    "\n",
    "# Following four statements count the respective letter in both names, and output is an integer.\n",
    "t = lower_case_names.count(\"t\")\n",
    "r = lower_case_names.count(\"r\")\n",
    "u = lower_case_names.count(\"u\")\n",
    "e = lower_case_names.count(\"e\")\n",
    "\n",
    "# Following statement returns the sum of count of letters \"t\", \"r\", \"u\" and \"e\" in both names.\n",
    "true = t + r + u + e\n",
    "\n",
    "\n",
    "# Following four statements count the respective letter in both names, and output is an integer.\n",
    "l = lower_case_names.count(\"l\")\n",
    "i = lower_case_names.count(\"i\")\n",
    "k = lower_case_names.count(\"k\")\n",
    "e = lower_case_names.count(\"e\")\n",
    "\n",
    "# Following statement returns the sum of count of letters \"l\", \"i\", \"k\" and \"e\" in both names.\n",
    "like = l + i + k + e\n",
    "\n",
    "# Following f-string statement may be used to join numbers as strings are concatenated.\n",
    "# scr = f\"{true}{like}\"\n",
    "# print(type(scr))\n",
    "# score = int(scr)\n",
    "\n",
    "# Following statement concatenates integers in variables treu and like after type converting them into strings.\n",
    "scr = str(true) + str(like)\n",
    "\n",
    "# Following statement type converts concatenated numbers(type strings) into integer.\n",
    "score = int(scr)\n",
    "\n",
    "# Following \"if\" condition checks whether integer pointed by variable \"score\" falls within or out of certain range.\n",
    "if score < 10 or score > 90:\n",
    "    print(f\"Your score is {score}, you go together like coke and mentos.\")\n",
    "# Following \"elif\" condition gets control of program when preceeding \"if\" statement evaluates to \"False\", it checks whether the integer pointed by variable \"score\" is within a certain range.\n",
    "elif (score >= 40) and (score <+ 50):\n",
    "    print(f\"Your score is {score}, you are alright together.\")\n",
    "# Following \"else\" statement gets control of program, when preceeding \"if\" and \"elif\" statements evaluate to \"False\".\n",
    "else:\n",
    "    print(f\"Your score is {score}.\")"
   ]
  }
 ],
 "metadata": {
  "kernelspec": {
   "display_name": "Python 3 (ipykernel)",
   "language": "python",
   "name": "python3"
  },
  "language_info": {
   "codemirror_mode": {
    "name": "ipython",
    "version": 3
   },
   "file_extension": ".py",
   "mimetype": "text/x-python",
   "name": "python",
   "nbconvert_exporter": "python",
   "pygments_lexer": "ipython3",
   "version": "3.9.12"
  }
 },
 "nbformat": 4,
 "nbformat_minor": 5
}

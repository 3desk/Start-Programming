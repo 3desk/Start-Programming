{
 "cells": [
  {
   "cell_type": "markdown",
   "id": "b06ebe59",
   "metadata": {},
   "source": [
    "##  Rock, Paper and Scissors \n",
    "\n",
    "#### It is a game where user and computer make a choice between rock, paper and scissors, and based on rules of the game there is a result.\n",
    "Concept: importing a module, variables, input(), random.randint(), print(), if-else,  nested if-else"
   ]
  },
  {
   "cell_type": "code",
   "execution_count": 93,
   "id": "eb23b37c",
   "metadata": {},
   "outputs": [
    {
     "name": "stdout",
     "output_type": "stream",
     "text": [
      "What do you choose?\n",
      "Choose 0 for rock, 1 paper, 2 for scissors.\n",
      "Users chooses: 2\n",
      "Computer chooses:  2\n",
      "It is a draw.\n"
     ]
    }
   ],
   "source": [
    "# Rules: \n",
    "# 1.Among rock(0) and paper(1), paper win(1); \n",
    "# 2. Among paper(1) and scissors(2), scissors(2) wins; \n",
    "# 3.Among scissors(2) and rock(0), rock(0) wins.\n",
    "\n",
    "user_choice = int(input(\"What do you choose?\\nChoose 0 for rock, 1 paper, 2 for scissors.\\nUsers chooses: \"))\n",
    "\n",
    "# Following statement uses random.randint function to choose a random number from three numbers which can be used to pick computers random choice.\n",
    "computer_choice = random.randint(0,2)\n",
    "\n",
    "# Following statement prints conputers choice.\n",
    "print(\"Computer chooses: \", computer_choice)\n",
    "\n",
    "# Following \"if\" condition checks whether user's and computer's choices are equal/same. When this condition evaluates to true, it prints that the game is a draw.\n",
    "# When it evaluates to false, i.e. user and computer choices are different, the control of program is transferred to next \"elif\" statement, for evaluating other possibilities, according to rules of the game.\n",
    "if user_choice == computer_choice:\n",
    "    print(\"It is a draw.\")\n",
    "# Now, when user's and computer's, choices are not same then, game is not a draw. The rules of game need further evaluation in such a case.\n",
    "# It may be noted that when user chooses 2 or 1 and computer chooses 1 or 0 respectively, the user wins, i.e. the number that is greater, wins.\n",
    "# However, it is not the case when choice is between 0 and 2, in that case 0 wins i.e. number that is less wins.\n",
    "# Following \"elif\" statement evaluates the scenario, when number that is less wins.\n",
    "elif (user_choice == 0 or user_choice == 2) and (computer_choice == 0 or computer_choice == 2):\n",
    "# Following statement evaluates the scenario when users choice is 0 and computer choice is 2, i.e. user's choice is less than computer's choice.\n",
    "# Now, when it evaluates to \"True\", user wins, otherwise when it evaluates to \"False\", control of program is transferred to next, indented \"elif\" statement.\n",
    "    if user_choice < computer_choice:\n",
    "        print(\"You win!\")\n",
    "# Following statement also evaluates between the case when user and computer choices are between 0 and 2 for each.\n",
    "# When user choice is 2 and computer choice is 0, user loses as per the rules of the game.\n",
    "    elif user_choice > computer_choice:\n",
    "        print(\"You lose.\")\n",
    "# Following statement evaluates the scenario where user and computer choices are between 2 and 1, and 1 and 0. In such a scenario, the number that is greater, wins.\n",
    "elif user_choice > computer_choice:\n",
    "    print(\"You win!\")\n",
    "# Following statement evaluates the scenario where user and computer choices are between 2 and 1, and 1 and 0. In such a scenario, the number that is less, loses.\n",
    "else:\n",
    "    print(\"You lose.\")"
   ]
  }
 ],
 "metadata": {
  "kernelspec": {
   "display_name": "Python 3 (ipykernel)",
   "language": "python",
   "name": "python3"
  },
  "language_info": {
   "codemirror_mode": {
    "name": "ipython",
    "version": 3
   },
   "file_extension": ".py",
   "mimetype": "text/x-python",
   "name": "python",
   "nbconvert_exporter": "python",
   "pygments_lexer": "ipython3",
   "version": "3.9.12"
  }
 },
 "nbformat": 4,
 "nbformat_minor": 5
}

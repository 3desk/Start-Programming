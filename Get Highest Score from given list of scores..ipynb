{
 "cells": [
  {
   "cell_type": "markdown",
   "id": "ed28875e",
   "metadata": {},
   "source": [
    "### Get highest score from a list of scores\n",
    "Concept: input(), for loop, range(), len(), arithmetic operator, if-condition, print(), f-string."
   ]
  },
  {
   "cell_type": "code",
   "execution_count": 3,
   "id": "0812d858",
   "metadata": {},
   "outputs": [
    {
     "name": "stdout",
     "output_type": "stream",
     "text": [
      "Enter the student scores, separated by a space: 45 26 57 49 68 59 75 69 87 91\n",
      "The highest score in the class is: 91\n"
     ]
    }
   ],
   "source": [
    "# Following statement asks user to input student scores, separated by a comma. The input is in the form of a string. The input is converted into type list by using the function split.\n",
    "student_scores = input(\"Enter the student scores, separated by a space: \").split()\n",
    "\n",
    "# Following \"for\" loop converts string values in list into integer values.\n",
    "for score in range(0,len(student_scores)):\n",
    "    student_scores[score] = int(student_scores[score])\n",
    "    \n",
    "# Following statement initiates a variable (an accumulator) highest_score with value 0. \n",
    "highest_score = 0\n",
    "\n",
    "# Following \"for\" loop iterates through list of student scores and compares each score to highest score.\n",
    "# If the iteration score is greater than highest score, it replaces the previous highest score to take it's place.\n",
    "for score in student_scores:\n",
    "    if score > highest_score:\n",
    "        highest_score = score\n",
    "\n",
    "# Following statement prints the output, it uses f-string for variable interpolation.\n",
    "print(f\"The highest score in the class is: {highest_score}\")\n",
    "    "
   ]
  }
 ],
 "metadata": {
  "kernelspec": {
   "display_name": "Python 3 (ipykernel)",
   "language": "python",
   "name": "python3"
  },
  "language_info": {
   "codemirror_mode": {
    "name": "ipython",
    "version": 3
   },
   "file_extension": ".py",
   "mimetype": "text/x-python",
   "name": "python",
   "nbconvert_exporter": "python",
   "pygments_lexer": "ipython3",
   "version": "3.9.12"
  }
 },
 "nbformat": 4,
 "nbformat_minor": 5
}

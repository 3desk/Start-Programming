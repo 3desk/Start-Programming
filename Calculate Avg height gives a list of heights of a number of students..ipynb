{
 "cells": [
  {
   "cell_type": "markdown",
   "id": "dff86eca",
   "metadata": {},
   "source": [
    "## Write a program to calculate average height, given a list of heights of students. Do not use sum() and len() functions for calculation.\n",
    "Concepts: input(), split(), for loop, range(), int(), variables for summation and count, round(), f-string."
   ]
  },
  {
   "cell_type": "code",
   "execution_count": 28,
   "id": "bd626ddf",
   "metadata": {},
   "outputs": [
    {
     "name": "stdout",
     "output_type": "stream",
     "text": [
      "Enter height of students separateed by space. 175 165 168 172 174 166\n",
      "Average height of students is 170.\n"
     ]
    }
   ],
   "source": [
    "# Write a program to calculate average student height from a list of heights of many students.\n",
    "# Following statement asks user to input student heights(input are strins) and it is split to make it into a list.\n",
    "student_height = input(\"Enter height of students separateed by space. \").split()\n",
    "\n",
    "# Following \"for loop\" iterates through eachvalue in list,(each value is type string), and converts it into a list of integers.\n",
    "for i in range(0, len(student_height)):\n",
    "    student_height[i] = int(student_height[i])\n",
    "student_height\n",
    "\n",
    "# Following \"for loop\" iterates through each height value in list and output is sum of heights of all students in the list.\n",
    "sum_of_height = 0\n",
    "for height in student_height:\n",
    "    sum_of_height += height\n",
    "\n",
    "# Following \"for loop\" iterates through each value in the list, and output is number of student heights in the list.   \n",
    "no_of_students = 0\n",
    "for student in student_height:\n",
    "    no_of_students += 1\n",
    "\n",
    "# Following statement calculates average height from sum of height of all students and number of students obtained from Frr loops above.\n",
    "average_height = round(sum_of_height/no_of_students)\n",
    "\n",
    "# Following statement prints the average height, it haas f-string for variable interpolation.\n",
    "print(f\"Average height of students is {average_height}.\")\n"
   ]
  }
 ],
 "metadata": {
  "kernelspec": {
   "display_name": "Python 3 (ipykernel)",
   "language": "python",
   "name": "python3"
  },
  "language_info": {
   "codemirror_mode": {
    "name": "ipython",
    "version": 3
   },
   "file_extension": ".py",
   "mimetype": "text/x-python",
   "name": "python",
   "nbconvert_exporter": "python",
   "pygments_lexer": "ipython3",
   "version": "3.9.12"
  }
 },
 "nbformat": 4,
 "nbformat_minor": 5
}
